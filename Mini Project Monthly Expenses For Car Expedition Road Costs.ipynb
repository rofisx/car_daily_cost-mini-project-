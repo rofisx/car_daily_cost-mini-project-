{
 "cells": [
  {
   "cell_type": "code",
   "execution_count": 17,
   "id": "1a412364-40d4-46c2-8b4b-2c87d02a1154",
   "metadata": {},
   "outputs": [],
   "source": [
    "# Data \n",
    "road_costs = 1500000\n",
    "number_of_days = 31\n",
    "list_of_plate_number = [8993, 2198, 2501, 2735, 3772, 4837, 9152]"
   ]
  },
  {
   "cell_type": "code",
   "execution_count": 18,
   "id": "c5dc04a6-0fb2-4ae0-8ffd-618b67182fec",
   "metadata": {},
   "outputs": [],
   "source": [
    "#Variable declaration of even vehicles and odd vehicles\n",
    "even_vehicle = 0 #genap\n",
    "odd_vehicle = 0 #ganjil"
   ]
  },
  {
   "cell_type": "code",
   "execution_count": 19,
   "id": "509a1d16-aa17-407a-b34a-d094f77ab264",
   "metadata": {},
   "outputs": [],
   "source": [
    "#Checking Vehicles with Odd or Even License Numbers\n",
    "for plate_number in list_of_plate_number:\n",
    "    if plate_number % 2 == 0:\n",
    "        even_vehicle+=1 \n",
    "    else:\n",
    "        odd_vehicle+=1"
   ]
  },
  {
   "cell_type": "code",
   "execution_count": 20,
   "id": "4e5ddce6-eaff-42a5-81f5-9a95d15583dc",
   "metadata": {},
   "outputs": [],
   "source": [
    "# Calculate total expenses for vehicles with odd and even plate numbers in 1 month\n",
    "i = 1\n",
    "total_expenses = 0\n",
    "while i <= number_of_days:\n",
    "    if i % 2 == 0:\n",
    "        total_expenses += (road_costs * even_vehicle) \n",
    "    else:\n",
    "        total_expenses += (road_costs * odd_vehicle) \n",
    "    i += 1"
   ]
  },
  {
   "cell_type": "code",
   "execution_count": 21,
   "id": "fada5a4f-52e1-45d0-af7a-ef7f4be567de",
   "metadata": {},
   "outputs": [
    {
     "name": "stdout",
     "output_type": "stream",
     "text": [
      "163500000\n"
     ]
    }
   ],
   "source": [
    "print(total_expenses)"
   ]
  }
 ],
 "metadata": {
  "kernelspec": {
   "display_name": "Python 3 (ipykernel)",
   "language": "python",
   "name": "python3"
  },
  "language_info": {
   "codemirror_mode": {
    "name": "ipython",
    "version": 3
   },
   "file_extension": ".py",
   "mimetype": "text/x-python",
   "name": "python",
   "nbconvert_exporter": "python",
   "pygments_lexer": "ipython3",
   "version": "3.11.7"
  }
 },
 "nbformat": 4,
 "nbformat_minor": 5
}
